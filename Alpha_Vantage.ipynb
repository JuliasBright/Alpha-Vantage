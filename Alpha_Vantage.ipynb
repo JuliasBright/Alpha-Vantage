{
 "cells": [
  {
   "cell_type": "code",
   "execution_count": 4,
   "metadata": {},
   "outputs": [],
   "source": [
    "import alpha_vantage\n",
    "import pandas as pd\n",
    "import time\n",
    "from alpha_vantage.timeseries import TimeSeries\n"
   ]
  },
  {
   "cell_type": "code",
   "execution_count": 7,
   "metadata": {},
   "outputs": [],
   "source": [
    "api_key = 'B6HZ4LI70C2DZOQM'"
   ]
  },
  {
   "cell_type": "code",
   "execution_count": 8,
   "metadata": {},
   "outputs": [
    {
     "name": "stdout",
     "output_type": "stream",
     "text": [
      "                      1. open   2. high   3. low  4. close  5. volume\n",
      "date                                                                 \n",
      "2020-03-09 16:00:00  151.0200  152.1100  150.590  150.6300  1411253.0\n",
      "2020-03-09 15:59:00  151.3427  151.5100  151.000  151.0199   692107.0\n",
      "2020-03-09 15:58:00  151.4800  151.5000  151.000  151.3400   586998.0\n",
      "2020-03-09 15:57:00  152.4900  152.5000  151.450  151.4800   497754.0\n",
      "2020-03-09 15:56:00  153.2900  153.6200  152.458  152.5000   511156.0\n",
      "...                       ...       ...      ...       ...        ...\n",
      "2020-03-03 09:35:00  172.2900  172.2900  172.290  172.2900   256938.0\n",
      "2020-03-03 09:34:00  172.3750  173.1000  172.320  173.0500   263500.0\n",
      "2020-03-03 09:33:00  172.5100  172.7400  172.200  172.3973   196298.0\n",
      "2020-03-03 09:32:00  172.7550  173.1198  172.220  172.4800   270127.0\n",
      "2020-03-03 09:31:00  173.6200  173.9600  172.650  172.8865  2960618.0\n",
      "\n",
      "[1916 rows x 5 columns]\n"
     ]
    }
   ],
   "source": [
    "ts = TimeSeries(key=api_key, output_format='pandas')\n",
    "data, meta_data = ts.get_intraday(symbol='MSFT',interval= '1min', outputsize = 'full')\n",
    "print(data)"
   ]
  },
  {
   "cell_type": "code",
   "execution_count": 9,
   "metadata": {},
   "outputs": [],
   "source": [
    "close_data = data['4. close']\n",
    "percentage_change = close_data.pct_change()\n"
   ]
  },
  {
   "cell_type": "code",
   "execution_count": 10,
   "metadata": {},
   "outputs": [
    {
     "name": "stdout",
     "output_type": "stream",
     "text": [
      "date\n",
      "2020-03-09 16:00:00         NaN\n",
      "2020-03-09 15:59:00    0.002588\n",
      "2020-03-09 15:58:00    0.002120\n",
      "2020-03-09 15:57:00    0.000925\n",
      "2020-03-09 15:56:00    0.006734\n",
      "                         ...   \n",
      "2020-03-03 09:35:00    0.002852\n",
      "2020-03-03 09:34:00    0.004411\n",
      "2020-03-03 09:33:00   -0.003772\n",
      "2020-03-03 09:32:00    0.000480\n",
      "2020-03-03 09:31:00    0.002357\n",
      "Name: 4. close, Length: 1916, dtype: float64\n"
     ]
    }
   ],
   "source": [
    "print(percentage_change)"
   ]
  },
  {
   "cell_type": "code",
   "execution_count": 12,
   "metadata": {},
   "outputs": [
    {
     "ename": "TypeError",
     "evalue": "can only concatenate str (not \"numpy.float64\") to str",
     "output_type": "error",
     "traceback": [
      "\u001b[1;31m---------------------------------------------------------------------------\u001b[0m",
      "\u001b[1;31mTypeError\u001b[0m                                 Traceback (most recent call last)",
      "\u001b[1;32m<ipython-input-12-3138928af954>\u001b[0m in \u001b[0;36m<module>\u001b[1;34m\u001b[0m\n\u001b[0;32m      1\u001b[0m \u001b[0mlast_change\u001b[0m \u001b[1;33m=\u001b[0m \u001b[0mpercentage_change\u001b[0m\u001b[1;33m[\u001b[0m\u001b[1;33m-\u001b[0m\u001b[1;36m1\u001b[0m\u001b[1;33m]\u001b[0m\u001b[1;33m\u001b[0m\u001b[1;33m\u001b[0m\u001b[0m\n\u001b[0;32m      2\u001b[0m \u001b[1;32mif\u001b[0m \u001b[0mabs\u001b[0m\u001b[1;33m(\u001b[0m\u001b[0mlast_change\u001b[0m\u001b[1;33m)\u001b[0m \u001b[1;33m>\u001b[0m \u001b[1;36m0.0004\u001b[0m\u001b[1;33m:\u001b[0m\u001b[1;33m\u001b[0m\u001b[1;33m\u001b[0m\u001b[0m\n\u001b[1;32m----> 3\u001b[1;33m     \u001b[0mprint\u001b[0m\u001b[1;33m(\u001b[0m\u001b[1;34m\"MSFT Alert:\"\u001b[0m \u001b[1;33m+\u001b[0m \u001b[0mlast_change\u001b[0m\u001b[1;33m)\u001b[0m\u001b[1;33m\u001b[0m\u001b[1;33m\u001b[0m\u001b[0m\n\u001b[0m",
      "\u001b[1;31mTypeError\u001b[0m: can only concatenate str (not \"numpy.float64\") to str"
     ]
    }
   ],
   "source": [
    "last_change = percentage_change[-1]\n",
    "if abs(last_change) > 0.0004:\n",
    "    print(\"MSFT Alert:\" + last_change)"
   ]
  },
  {
   "cell_type": "code",
   "execution_count": 1,
   "metadata": {},
   "outputs": [
    {
     "ename": "SyntaxError",
     "evalue": "invalid syntax (<ipython-input-1-83ac4d84ab97>, line 1)",
     "output_type": "error",
     "traceback": [
      "\u001b[1;36m  File \u001b[1;32m\"<ipython-input-1-83ac4d84ab97>\"\u001b[1;36m, line \u001b[1;32m1\u001b[0m\n\u001b[1;33m    cc=\u001b[0m\n\u001b[1;37m       ^\u001b[0m\n\u001b[1;31mSyntaxError\u001b[0m\u001b[1;31m:\u001b[0m invalid syntax\n"
     ]
    }
   ],
   "source": [
    "cc=\n",
    "ForeignExchange(key='B6HZ4LI70C2DZOQM',output_format='pandas') #PANDAS\n",
    "data, meta_data = \n",
    "cc.get_currency_exchange_intraday(from_symbol = 'CAD'to symbol='USD')\n",
    "print(data)\n",
    "data['4. close'].plot()\n"
   ]
  },
  {
   "cell_type": "code",
   "execution_count": null,
   "metadata": {},
   "outputs": [],
   "source": []
  }
 ],
 "metadata": {
  "kernelspec": {
   "display_name": "Python 3.8.1 32-bit",
   "language": "python",
   "name": "python38132bit40a82a20a2d440cc89d6a6d72f4a3d42"
  },
  "language_info": {
   "codemirror_mode": {
    "name": "ipython",
    "version": 3
   },
   "file_extension": ".py",
   "mimetype": "text/x-python",
   "name": "python",
   "nbconvert_exporter": "python",
   "pygments_lexer": "ipython3",
   "version": "3.8.1"
  }
 },
 "nbformat": 4,
 "nbformat_minor": 4
}
